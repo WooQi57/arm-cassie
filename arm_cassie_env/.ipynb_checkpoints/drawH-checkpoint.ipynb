{
 "cells": [
  {
   "cell_type": "code",
   "execution_count": 1,
   "id": "09a854a7",
   "metadata": {},
   "outputs": [],
   "source": [
    "import matplotlib.pyplot as plt\n",
    "%matplotlib inline\n",
    "import pandas as pd\n",
    "import numpy as np"
   ]
  },
  {
   "cell_type": "code",
   "execution_count": 2,
   "id": "16ff2d68",
   "metadata": {},
   "outputs": [],
   "source": [
    "plt.rcParams['figure.dpi'] = 300\n",
    "font = {'family' : 'Arial',\n",
    "        'weight' : 'normal',\n",
    "        'size'   : 5}\n",
    "plt.rc('font', **font)\n",
    "plt.rcParams['pdf.fonttype'] = 42\n",
    "plt.rcParams['lines.linewidth']=0.7\n",
    "plt.rcParams['xtick.direction']='in'\n",
    "plt.rcParams['ytick.direction']='in'\n",
    "plt.rcParams['xtick.major.width']=0.4\n",
    "plt.rcParams['ytick.major.width']=0.4\n",
    "plt.rcParams['xtick.major.size']=2\n",
    "plt.rcParams['ytick.major.size']=2\n"
   ]
  },
  {
   "cell_type": "code",
   "execution_count": null,
   "id": "18bee28e",
   "metadata": {},
   "outputs": [],
   "source": [
    "fig,ax = plt.subplots(1,1,figsize=(7.0,7.0*4/16))\n",
    "# ax.spines['right'].set_visible(False)\n",
    "# ax.spines['top'].set_visible(False)\n",
    "\n",
    "h1 = pd.read_csv('fixh.csv',names=['time','fixh'])\n",
    "time1,xh = np.array(h1['time']),np.array(h1['fixh'])\n",
    "h2 = pd.read_csv('floath.csv', names=['time','floath'])\n",
    "time2,oh = np.array(h2['time']),np.array(h2['floath'])\n",
    "\n",
    "ax[0].plot(time1,xh,'b')\n",
    "ax[0].plot(time2,oh,'r')\n",
    "\n",
    "leg = ax[0].legend([\"fix arm\",\"controlled arm\"],loc=1,ncol=2)\n",
    "leg.get_frame().set_linewidth(0.1)\n",
    "ax[0].set_xlabel('Time (s)',fontsize=7)\n",
    "ax[0].set_ylabel('End-effector Height (m)',fontsize=7)\n",
    "ax[0].xaxis.set_label_coords(.5,-0.15)\n",
    "ax[0].yaxis.set_label_coords(-.15,.5)"
   ]
  }
 ],
 "metadata": {
  "kernelspec": {
   "display_name": "Python 3 (ipykernel)",
   "language": "python",
   "name": "python3"
  },
  "language_info": {
   "codemirror_mode": {
    "name": "ipython",
    "version": 3
   },
   "file_extension": ".py",
   "mimetype": "text/x-python",
   "name": "python",
   "nbconvert_exporter": "python",
   "pygments_lexer": "ipython3",
   "version": "3.8.12"
  }
 },
 "nbformat": 4,
 "nbformat_minor": 5
}
